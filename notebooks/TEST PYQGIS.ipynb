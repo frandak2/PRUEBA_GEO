{
 "cells": [
  {
   "cell_type": "code",
   "execution_count": null,
   "source": [
    "from qgis import processing\r\n",
    "from pathlib import Path\r\n",
    "\r\n",
    "p = Path(r'D:\\repos\\Prueba_Geo\\data\\MESES').glob('*.shp')\r\n",
    "files = [x for x in p if x.is_file()]\r\n",
    "out = [i.with_suffix('.tif') for i in files]\r\n",
    "for shp,tif, in zip(files,out):\r\n",
    "    print(shp,tif)\r\n",
    "    # Parámetros de entrada:\r\n",
    "    parameter = {\r\n",
    "    'INPUT' : shp, # lectura del shape\r\n",
    "    'OUTPUT' : tif, #escritura del raster\r\n",
    "    'PIXEL_SIZE' : 1, # tamano del pixel, un metro en nuestro caso\r\n",
    "    'RADIUS' : 10, # usa un radio de 10 metros\r\n",
    "    'WEIGHT_FIELD' : 'CANTIDAD' # el campo de peso para la interpolacion }\r\n",
    "    \r\n",
    "    processing.run(\"qgis:heatmapkerneldensityestimation\",parameter)"
   ],
   "outputs": [],
   "metadata": {}
  }
 ],
 "metadata": {
  "orig_nbformat": 4,
  "language_info": {
   "name": "python"
  }
 },
 "nbformat": 4,
 "nbformat_minor": 2
}