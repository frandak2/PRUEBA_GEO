{
 "cells": [
  {
   "cell_type": "markdown",
   "source": [
    "# Prueba Claro\r\n",
    "## Frank Montenegro - frandak2@gmail.com"
   ],
   "metadata": {}
  },
  {
   "cell_type": "markdown",
   "source": [
    "### importamos las librerias que vamos a usar"
   ],
   "metadata": {}
  },
  {
   "cell_type": "code",
   "execution_count": 1,
   "source": [
    "import pandas as pd\r\n",
    "import geopandas as gpd\r\n",
    "import libpysal as lp\r\n",
    "import matplotlib.pyplot as plt\r\n",
    "import rasterio as rio\r\n",
    "import numpy as np\r\n",
    "import contextily as ctx\r\n",
    "import shapely.geometry as geom\r\n",
    "%matplotlib inline"
   ],
   "outputs": [],
   "metadata": {}
  },
  {
   "cell_type": "markdown",
   "source": [
    "### redireccionamos la ruta del notebook"
   ],
   "metadata": {}
  },
  {
   "cell_type": "code",
   "execution_count": 2,
   "source": [
    "import os\r\n",
    "g = os.getcwd()\r\n",
    "g\r\n",
    "path = 'D:\\\\repos\\\\PRUEBA_GEO'\r\n",
    "os.chdir(path)"
   ],
   "outputs": [],
   "metadata": {}
  },
  {
   "cell_type": "markdown",
   "source": [
    "## Procedemos a leer los archivos shapefile\r\n",
    "de antemanos sabemos que el shape MGN es la capa de centros poblados del igac, en este shape tenemos imforacion sobre la forma, tamanio y area de cada centro poblado del pais"
   ],
   "metadata": {}
  },
  {
   "cell_type": "code",
   "execution_count": 3,
   "source": [
    "MGN = gpd.read_file('data\\MGN.shp')#leemos el shapefile\r\n",
    "MGN.head(5) #observamos sus 5 primeras filas\r\n"
   ],
   "outputs": [
    {
     "output_type": "execute_result",
     "data": {
      "text/html": [
       "<div>\n",
       "<style scoped>\n",
       "    .dataframe tbody tr th:only-of-type {\n",
       "        vertical-align: middle;\n",
       "    }\n",
       "\n",
       "    .dataframe tbody tr th {\n",
       "        vertical-align: top;\n",
       "    }\n",
       "\n",
       "    .dataframe thead th {\n",
       "        text-align: right;\n",
       "    }\n",
       "</style>\n",
       "<table border=\"1\" class=\"dataframe\">\n",
       "  <thead>\n",
       "    <tr style=\"text-align: right;\">\n",
       "      <th></th>\n",
       "      <th>id</th>\n",
       "      <th>gid</th>\n",
       "      <th>dpto_ccdgo</th>\n",
       "      <th>mpio_ccdgo</th>\n",
       "      <th>cpob_ccdgo</th>\n",
       "      <th>setu_ccnct</th>\n",
       "      <th>shape_leng</th>\n",
       "      <th>shape_area</th>\n",
       "      <th>setu_ccdgo</th>\n",
       "      <th>geometry</th>\n",
       "    </tr>\n",
       "  </thead>\n",
       "  <tbody>\n",
       "    <tr>\n",
       "      <th>0</th>\n",
       "      <td>2.0</td>\n",
       "      <td>10121.0</td>\n",
       "      <td>76</td>\n",
       "      <td>76001</td>\n",
       "      <td>76001000</td>\n",
       "      <td>760011000000001307</td>\n",
       "      <td>0.007526</td>\n",
       "      <td>0.000002</td>\n",
       "      <td>1307</td>\n",
       "      <td>POLYGON ((-76.49561 3.42419, -76.49520 3.42387...</td>\n",
       "    </tr>\n",
       "    <tr>\n",
       "      <th>1</th>\n",
       "      <td>3.0</td>\n",
       "      <td>10125.0</td>\n",
       "      <td>76</td>\n",
       "      <td>76001</td>\n",
       "      <td>76001000</td>\n",
       "      <td>760011000000001311</td>\n",
       "      <td>0.010818</td>\n",
       "      <td>0.000006</td>\n",
       "      <td>1311</td>\n",
       "      <td>POLYGON ((-76.49901 3.42818, -76.49806 3.42770...</td>\n",
       "    </tr>\n",
       "    <tr>\n",
       "      <th>2</th>\n",
       "      <td>2604.0</td>\n",
       "      <td>8188.0</td>\n",
       "      <td>63</td>\n",
       "      <td>63001</td>\n",
       "      <td>63001000</td>\n",
       "      <td>630011000000000061</td>\n",
       "      <td>0.176912</td>\n",
       "      <td>0.000408</td>\n",
       "      <td>0061</td>\n",
       "      <td>POLYGON ((-75.64057 4.58468, -75.64055 4.58463...</td>\n",
       "    </tr>\n",
       "    <tr>\n",
       "      <th>3</th>\n",
       "      <td>2605.0</td>\n",
       "      <td>8177.0</td>\n",
       "      <td>63</td>\n",
       "      <td>63001</td>\n",
       "      <td>63001000</td>\n",
       "      <td>630011000000000050</td>\n",
       "      <td>0.046058</td>\n",
       "      <td>0.000066</td>\n",
       "      <td>0050</td>\n",
       "      <td>POLYGON ((-75.66499 4.53397, -75.66499 4.53397...</td>\n",
       "    </tr>\n",
       "    <tr>\n",
       "      <th>4</th>\n",
       "      <td>6.0</td>\n",
       "      <td>10270.0</td>\n",
       "      <td>76</td>\n",
       "      <td>76001</td>\n",
       "      <td>76001000</td>\n",
       "      <td>760011000000002102</td>\n",
       "      <td>0.037957</td>\n",
       "      <td>0.000047</td>\n",
       "      <td>2102</td>\n",
       "      <td>POLYGON ((-76.46221 3.43150, -76.46219 3.43150...</td>\n",
       "    </tr>\n",
       "  </tbody>\n",
       "</table>\n",
       "</div>"
      ],
      "text/plain": [
       "       id      gid dpto_ccdgo mpio_ccdgo cpob_ccdgo          setu_ccnct  \\\n",
       "0     2.0  10121.0         76      76001   76001000  760011000000001307   \n",
       "1     3.0  10125.0         76      76001   76001000  760011000000001311   \n",
       "2  2604.0   8188.0         63      63001   63001000  630011000000000061   \n",
       "3  2605.0   8177.0         63      63001   63001000  630011000000000050   \n",
       "4     6.0  10270.0         76      76001   76001000  760011000000002102   \n",
       "\n",
       "   shape_leng  shape_area setu_ccdgo  \\\n",
       "0    0.007526    0.000002       1307   \n",
       "1    0.010818    0.000006       1311   \n",
       "2    0.176912    0.000408       0061   \n",
       "3    0.046058    0.000066       0050   \n",
       "4    0.037957    0.000047       2102   \n",
       "\n",
       "                                            geometry  \n",
       "0  POLYGON ((-76.49561 3.42419, -76.49520 3.42387...  \n",
       "1  POLYGON ((-76.49901 3.42818, -76.49806 3.42770...  \n",
       "2  POLYGON ((-75.64057 4.58468, -75.64055 4.58463...  \n",
       "3  POLYGON ((-75.66499 4.53397, -75.66499 4.53397...  \n",
       "4  POLYGON ((-76.46221 3.43150, -76.46219 3.43150...  "
      ]
     },
     "metadata": {},
     "execution_count": 3
    }
   ],
   "metadata": {}
  },
  {
   "cell_type": "markdown",
   "source": [
    "en el siguiente shapefile asumimos que se trata de comparendos por el nombre de la carpeta"
   ],
   "metadata": {}
  },
  {
   "cell_type": "code",
   "execution_count": 4,
   "source": [
    "Comparendos = gpd.read_file('data\\Comparendos_2019_Bogota_D_C-shp\\ea5b4424-e796-4663-b73c-ba11d4d77a82202041-1-1g25ja2.nxl3.shp')#leemos el shapefile\r\n",
    "Comparendos.to_crs(epsg=3116, inplace=True)\r\n"
   ],
   "outputs": [],
   "metadata": {}
  },
  {
   "cell_type": "code",
   "execution_count": 5,
   "source": [
    "Comparendos.info()#observamos que tipo de info tiene el shapefile"
   ],
   "outputs": [
    {
     "output_type": "stream",
     "name": "stdout",
     "text": [
      "<class 'geopandas.geodataframe.GeoDataFrame'>\n",
      "RangeIndex: 402500 entries, 0 to 402499\n",
      "Data columns (total 16 columns):\n",
      " #   Column      Non-Null Count   Dtype   \n",
      "---  ------      --------------   -----   \n",
      " 0   OBJECTID    402500 non-null  int64   \n",
      " 1   NUM_COMPAR  402500 non-null  object  \n",
      " 2   FECHA_HORA  402500 non-null  object  \n",
      " 3   ANO         402500 non-null  int64   \n",
      " 4   MES         402500 non-null  object  \n",
      " 5   MEDIO_DETE  402500 non-null  object  \n",
      " 6   CLASE_VEHI  402500 non-null  object  \n",
      " 7   TIPO_SERVI  402500 non-null  object  \n",
      " 8   INFRACCION  402500 non-null  object  \n",
      " 9   DES_INFRAC  402500 non-null  object  \n",
      " 10  LOCALIDAD   402499 non-null  object  \n",
      " 11  DIRECCION   402482 non-null  object  \n",
      " 12  MUNICIPIO   402500 non-null  object  \n",
      " 13  LATITUD     402500 non-null  float64 \n",
      " 14  LONGITUD    402500 non-null  float64 \n",
      " 15  geometry    402500 non-null  geometry\n",
      "dtypes: float64(2), geometry(1), int64(2), object(11)\n",
      "memory usage: 49.1+ MB\n"
     ]
    }
   ],
   "metadata": {}
  },
  {
   "cell_type": "markdown",
   "source": [
    "### tenemos alrededor de 402.500 registros de comparendos, tambien observamos que por comparendo tenemos ID, fecha y hora, clase de vehiculo, infraccion, municipio, localidad, direccion, cordenadas (fundamental para hacer nuestro analisis espacial)\r\n"
   ],
   "metadata": {}
  },
  {
   "cell_type": "code",
   "execution_count": 6,
   "source": [
    "Comparendos.head(5)## examinamos como esta la informacion"
   ],
   "outputs": [
    {
     "output_type": "execute_result",
     "data": {
      "text/html": [
       "<div>\n",
       "<style scoped>\n",
       "    .dataframe tbody tr th:only-of-type {\n",
       "        vertical-align: middle;\n",
       "    }\n",
       "\n",
       "    .dataframe tbody tr th {\n",
       "        vertical-align: top;\n",
       "    }\n",
       "\n",
       "    .dataframe thead th {\n",
       "        text-align: right;\n",
       "    }\n",
       "</style>\n",
       "<table border=\"1\" class=\"dataframe\">\n",
       "  <thead>\n",
       "    <tr style=\"text-align: right;\">\n",
       "      <th></th>\n",
       "      <th>OBJECTID</th>\n",
       "      <th>NUM_COMPAR</th>\n",
       "      <th>FECHA_HORA</th>\n",
       "      <th>ANO</th>\n",
       "      <th>MES</th>\n",
       "      <th>MEDIO_DETE</th>\n",
       "      <th>CLASE_VEHI</th>\n",
       "      <th>TIPO_SERVI</th>\n",
       "      <th>INFRACCION</th>\n",
       "      <th>DES_INFRAC</th>\n",
       "      <th>LOCALIDAD</th>\n",
       "      <th>DIRECCION</th>\n",
       "      <th>MUNICIPIO</th>\n",
       "      <th>LATITUD</th>\n",
       "      <th>LONGITUD</th>\n",
       "      <th>geometry</th>\n",
       "    </tr>\n",
       "  </thead>\n",
       "  <tbody>\n",
       "    <tr>\n",
       "      <th>0</th>\n",
       "      <td>3638634</td>\n",
       "      <td>11001000000022771563</td>\n",
       "      <td>2019-01-01</td>\n",
       "      <td>2019</td>\n",
       "      <td>ENERO</td>\n",
       "      <td>DEAP</td>\n",
       "      <td>AUTOMÓVIL</td>\n",
       "      <td>Particular</td>\n",
       "      <td>C02</td>\n",
       "      <td>ESTACIONAR UN VEHÍCULO EN SITIOS PROHIBIDOS.</td>\n",
       "      <td>SUBA</td>\n",
       "      <td>CL 152A CR 99</td>\n",
       "      <td>BOGOTA</td>\n",
       "      <td>4.750385</td>\n",
       "      <td>-74.088710</td>\n",
       "      <td>POINT (998757.245 1017049.995)</td>\n",
       "    </tr>\n",
       "    <tr>\n",
       "      <th>1</th>\n",
       "      <td>3638635</td>\n",
       "      <td>11001000000022771541</td>\n",
       "      <td>2019-01-01</td>\n",
       "      <td>2019</td>\n",
       "      <td>ENERO</td>\n",
       "      <td>DEAP</td>\n",
       "      <td>AUTOMÓVIL</td>\n",
       "      <td>Particular</td>\n",
       "      <td>C02</td>\n",
       "      <td>ESTACIONAR UN VEHÍCULO EN SITIOS PROHIBIDOS.</td>\n",
       "      <td>SUBA</td>\n",
       "      <td>CL 152A CR 99</td>\n",
       "      <td>BOGOTA</td>\n",
       "      <td>4.750385</td>\n",
       "      <td>-74.088710</td>\n",
       "      <td>POINT (998757.245 1017049.995)</td>\n",
       "    </tr>\n",
       "    <tr>\n",
       "      <th>2</th>\n",
       "      <td>3638636</td>\n",
       "      <td>11001000000022771542</td>\n",
       "      <td>2019-01-01</td>\n",
       "      <td>2019</td>\n",
       "      <td>ENERO</td>\n",
       "      <td>DEAP</td>\n",
       "      <td>AUTOMÓVIL</td>\n",
       "      <td>Particular</td>\n",
       "      <td>C02</td>\n",
       "      <td>ESTACIONAR UN VEHÍCULO EN SITIOS PROHIBIDOS.</td>\n",
       "      <td>SUBA</td>\n",
       "      <td>CL 152A CR 99</td>\n",
       "      <td>BOGOTA</td>\n",
       "      <td>4.750467</td>\n",
       "      <td>-74.088823</td>\n",
       "      <td>POINT (998744.709 1017059.063)</td>\n",
       "    </tr>\n",
       "    <tr>\n",
       "      <th>3</th>\n",
       "      <td>3638637</td>\n",
       "      <td>11001000000022771452</td>\n",
       "      <td>2019-01-01</td>\n",
       "      <td>2019</td>\n",
       "      <td>ENERO</td>\n",
       "      <td>DEAP</td>\n",
       "      <td>AUTOMÓVIL</td>\n",
       "      <td>Particular</td>\n",
       "      <td>C02</td>\n",
       "      <td>ESTACIONAR UN VEHÍCULO EN SITIOS PROHIBIDOS.</td>\n",
       "      <td>SUBA</td>\n",
       "      <td>CL 152A CR 99</td>\n",
       "      <td>BOGOTA</td>\n",
       "      <td>4.750358</td>\n",
       "      <td>-74.088554</td>\n",
       "      <td>POINT (998774.551 1017047.009)</td>\n",
       "    </tr>\n",
       "    <tr>\n",
       "      <th>4</th>\n",
       "      <td>3638648</td>\n",
       "      <td>11001000000022771565</td>\n",
       "      <td>2019-01-01</td>\n",
       "      <td>2019</td>\n",
       "      <td>ENERO</td>\n",
       "      <td>DEAP</td>\n",
       "      <td>CAMPERO</td>\n",
       "      <td>Particular</td>\n",
       "      <td>C02</td>\n",
       "      <td>ESTACIONAR UN VEHÍCULO EN SITIOS PROHIBIDOS.</td>\n",
       "      <td>CHAPINERO</td>\n",
       "      <td>CL 81 CR 9</td>\n",
       "      <td>BOGOTA</td>\n",
       "      <td>4.664454</td>\n",
       "      <td>-74.052416</td>\n",
       "      <td>POINT (1002784.030 1007547.634)</td>\n",
       "    </tr>\n",
       "  </tbody>\n",
       "</table>\n",
       "</div>"
      ],
      "text/plain": [
       "   OBJECTID            NUM_COMPAR  FECHA_HORA   ANO    MES MEDIO_DETE  \\\n",
       "0   3638634  11001000000022771563  2019-01-01  2019  ENERO       DEAP   \n",
       "1   3638635  11001000000022771541  2019-01-01  2019  ENERO       DEAP   \n",
       "2   3638636  11001000000022771542  2019-01-01  2019  ENERO       DEAP   \n",
       "3   3638637  11001000000022771452  2019-01-01  2019  ENERO       DEAP   \n",
       "4   3638648  11001000000022771565  2019-01-01  2019  ENERO       DEAP   \n",
       "\n",
       "  CLASE_VEHI  TIPO_SERVI INFRACCION  \\\n",
       "0  AUTOMÓVIL  Particular        C02   \n",
       "1  AUTOMÓVIL  Particular        C02   \n",
       "2  AUTOMÓVIL  Particular        C02   \n",
       "3  AUTOMÓVIL  Particular        C02   \n",
       "4    CAMPERO  Particular        C02   \n",
       "\n",
       "                                     DES_INFRAC  LOCALIDAD      DIRECCION  \\\n",
       "0  ESTACIONAR UN VEHÍCULO EN SITIOS PROHIBIDOS.       SUBA  CL 152A CR 99   \n",
       "1  ESTACIONAR UN VEHÍCULO EN SITIOS PROHIBIDOS.       SUBA  CL 152A CR 99   \n",
       "2  ESTACIONAR UN VEHÍCULO EN SITIOS PROHIBIDOS.       SUBA  CL 152A CR 99   \n",
       "3  ESTACIONAR UN VEHÍCULO EN SITIOS PROHIBIDOS.       SUBA  CL 152A CR 99   \n",
       "4  ESTACIONAR UN VEHÍCULO EN SITIOS PROHIBIDOS.  CHAPINERO     CL 81 CR 9   \n",
       "\n",
       "  MUNICIPIO   LATITUD   LONGITUD                         geometry  \n",
       "0    BOGOTA  4.750385 -74.088710   POINT (998757.245 1017049.995)  \n",
       "1    BOGOTA  4.750385 -74.088710   POINT (998757.245 1017049.995)  \n",
       "2    BOGOTA  4.750467 -74.088823   POINT (998744.709 1017059.063)  \n",
       "3    BOGOTA  4.750358 -74.088554   POINT (998774.551 1017047.009)  \n",
       "4    BOGOTA  4.664454 -74.052416  POINT (1002784.030 1007547.634)  "
      ]
     },
     "metadata": {},
     "execution_count": 6
    }
   ],
   "metadata": {}
  },
  {
   "cell_type": "markdown",
   "source": [
    "cambiamos el formato de cada columna para poder trabajar de forma adecuada."
   ],
   "metadata": {}
  },
  {
   "cell_type": "code",
   "execution_count": 7,
   "source": [
    "comp_copy = Comparendos.copy()\r\n",
    "comp_copy = comp_copy.convert_dtypes()\r\n",
    "comp_copy.info()"
   ],
   "outputs": [
    {
     "output_type": "stream",
     "name": "stdout",
     "text": [
      "<class 'pandas.core.frame.DataFrame'>\n",
      "RangeIndex: 402500 entries, 0 to 402499\n",
      "Data columns (total 16 columns):\n",
      " #   Column      Non-Null Count   Dtype   \n",
      "---  ------      --------------   -----   \n",
      " 0   OBJECTID    402500 non-null  Int64   \n",
      " 1   NUM_COMPAR  402500 non-null  string  \n",
      " 2   FECHA_HORA  402500 non-null  string  \n",
      " 3   ANO         402500 non-null  Int64   \n",
      " 4   MES         402500 non-null  string  \n",
      " 5   MEDIO_DETE  402500 non-null  string  \n",
      " 6   CLASE_VEHI  402500 non-null  string  \n",
      " 7   TIPO_SERVI  402500 non-null  string  \n",
      " 8   INFRACCION  402500 non-null  string  \n",
      " 9   DES_INFRAC  402500 non-null  string  \n",
      " 10  LOCALIDAD   402499 non-null  string  \n",
      " 11  DIRECCION   402482 non-null  string  \n",
      " 12  MUNICIPIO   402500 non-null  string  \n",
      " 13  LATITUD     402500 non-null  Float64 \n",
      " 14  LONGITUD    402500 non-null  Float64 \n",
      " 15  geometry    402500 non-null  geometry\n",
      "dtypes: Float64(2), Int64(2), geometry(1), string(11)\n",
      "memory usage: 50.7 MB\n"
     ]
    }
   ],
   "metadata": {}
  },
  {
   "cell_type": "markdown",
   "source": [
    "La fecha al ser un tipo especial lo cambiaremos manualmente"
   ],
   "metadata": {}
  },
  {
   "cell_type": "code",
   "execution_count": 8,
   "source": [
    "comp_copy['FECHA_HORA'] = pd.to_datetime(comp_copy['FECHA_HORA'])\r\n",
    "comp_copy['FECHA_HORA'] # en formato datetime"
   ],
   "outputs": [
    {
     "output_type": "execute_result",
     "data": {
      "text/plain": [
       "0        2019-01-01\n",
       "1        2019-01-01\n",
       "2        2019-01-01\n",
       "3        2019-01-01\n",
       "4        2019-01-01\n",
       "            ...    \n",
       "402495   2019-10-31\n",
       "402496   2019-10-31\n",
       "402497   2019-10-31\n",
       "402498   2019-10-31\n",
       "402499   2019-10-31\n",
       "Name: FECHA_HORA, Length: 402500, dtype: datetime64[ns]"
      ]
     },
     "metadata": {},
     "execution_count": 8
    }
   ],
   "metadata": {}
  },
  {
   "cell_type": "markdown",
   "source": [
    "Como sabemos que tenemos un columna mes en tipo string la pasamos a tipo categorical."
   ],
   "metadata": {}
  },
  {
   "cell_type": "code",
   "execution_count": 9,
   "source": [
    "comp_copy['MES'] = pd.Categorical(comp_copy['MES'], categories=[ 'ENERO', 'FEBRERO', 'MARZO', 'ABRIL', 'MAYO', 'JUNIO', 'JULIO', 'AGOSTO', 'SEPTIEMBRE', 'OCTUBRE', 'NOVIEMBRE', 'DICIEMBRE'], ordered=True)\r\n",
    "comp_copy['MES']"
   ],
   "outputs": [
    {
     "output_type": "execute_result",
     "data": {
      "text/plain": [
       "0           ENERO\n",
       "1           ENERO\n",
       "2           ENERO\n",
       "3           ENERO\n",
       "4           ENERO\n",
       "           ...   \n",
       "402495    OCTUBRE\n",
       "402496    OCTUBRE\n",
       "402497    OCTUBRE\n",
       "402498    OCTUBRE\n",
       "402499    OCTUBRE\n",
       "Name: MES, Length: 402500, dtype: category\n",
       "Categories (12, object): ['ENERO' < 'FEBRERO' < 'MARZO' < 'ABRIL' ... 'SEPTIEMBRE' < 'OCTUBRE' < 'NOVIEMBRE' < 'DICIEMBRE']"
      ]
     },
     "metadata": {},
     "execution_count": 9
    }
   ],
   "metadata": {}
  },
  {
   "cell_type": "markdown",
   "source": [
    "eliminamos las columnas que no nos podrian traer inforacion relevante para el analisis, decidimos iliminar el ID y el # de comp por que no le suman informaciona nuestro datos, ademas eliminamos la direccion por que esta info esta contenida en la geometria"
   ],
   "metadata": {}
  },
  {
   "cell_type": "code",
   "execution_count": 10,
   "source": [
    "comp_copy.drop(columns=['OBJECTID','ANO', 'NUM_COMPAR', 'DIRECCION'], inplace=True)\r\n",
    "comp_copy.head(5)"
   ],
   "outputs": [
    {
     "output_type": "execute_result",
     "data": {
      "text/html": [
       "<div>\n",
       "<style scoped>\n",
       "    .dataframe tbody tr th:only-of-type {\n",
       "        vertical-align: middle;\n",
       "    }\n",
       "\n",
       "    .dataframe tbody tr th {\n",
       "        vertical-align: top;\n",
       "    }\n",
       "\n",
       "    .dataframe thead th {\n",
       "        text-align: right;\n",
       "    }\n",
       "</style>\n",
       "<table border=\"1\" class=\"dataframe\">\n",
       "  <thead>\n",
       "    <tr style=\"text-align: right;\">\n",
       "      <th></th>\n",
       "      <th>FECHA_HORA</th>\n",
       "      <th>MES</th>\n",
       "      <th>MEDIO_DETE</th>\n",
       "      <th>CLASE_VEHI</th>\n",
       "      <th>TIPO_SERVI</th>\n",
       "      <th>INFRACCION</th>\n",
       "      <th>DES_INFRAC</th>\n",
       "      <th>LOCALIDAD</th>\n",
       "      <th>MUNICIPIO</th>\n",
       "      <th>LATITUD</th>\n",
       "      <th>LONGITUD</th>\n",
       "      <th>geometry</th>\n",
       "    </tr>\n",
       "  </thead>\n",
       "  <tbody>\n",
       "    <tr>\n",
       "      <th>0</th>\n",
       "      <td>2019-01-01</td>\n",
       "      <td>ENERO</td>\n",
       "      <td>DEAP</td>\n",
       "      <td>AUTOMÓVIL</td>\n",
       "      <td>Particular</td>\n",
       "      <td>C02</td>\n",
       "      <td>ESTACIONAR UN VEHÍCULO EN SITIOS PROHIBIDOS.</td>\n",
       "      <td>SUBA</td>\n",
       "      <td>BOGOTA</td>\n",
       "      <td>4.750385</td>\n",
       "      <td>-74.08871</td>\n",
       "      <td>POINT (998757.245 1017049.995)</td>\n",
       "    </tr>\n",
       "    <tr>\n",
       "      <th>1</th>\n",
       "      <td>2019-01-01</td>\n",
       "      <td>ENERO</td>\n",
       "      <td>DEAP</td>\n",
       "      <td>AUTOMÓVIL</td>\n",
       "      <td>Particular</td>\n",
       "      <td>C02</td>\n",
       "      <td>ESTACIONAR UN VEHÍCULO EN SITIOS PROHIBIDOS.</td>\n",
       "      <td>SUBA</td>\n",
       "      <td>BOGOTA</td>\n",
       "      <td>4.750385</td>\n",
       "      <td>-74.08871</td>\n",
       "      <td>POINT (998757.245 1017049.995)</td>\n",
       "    </tr>\n",
       "    <tr>\n",
       "      <th>2</th>\n",
       "      <td>2019-01-01</td>\n",
       "      <td>ENERO</td>\n",
       "      <td>DEAP</td>\n",
       "      <td>AUTOMÓVIL</td>\n",
       "      <td>Particular</td>\n",
       "      <td>C02</td>\n",
       "      <td>ESTACIONAR UN VEHÍCULO EN SITIOS PROHIBIDOS.</td>\n",
       "      <td>SUBA</td>\n",
       "      <td>BOGOTA</td>\n",
       "      <td>4.750467</td>\n",
       "      <td>-74.088823</td>\n",
       "      <td>POINT (998744.709 1017059.063)</td>\n",
       "    </tr>\n",
       "    <tr>\n",
       "      <th>3</th>\n",
       "      <td>2019-01-01</td>\n",
       "      <td>ENERO</td>\n",
       "      <td>DEAP</td>\n",
       "      <td>AUTOMÓVIL</td>\n",
       "      <td>Particular</td>\n",
       "      <td>C02</td>\n",
       "      <td>ESTACIONAR UN VEHÍCULO EN SITIOS PROHIBIDOS.</td>\n",
       "      <td>SUBA</td>\n",
       "      <td>BOGOTA</td>\n",
       "      <td>4.750358</td>\n",
       "      <td>-74.088554</td>\n",
       "      <td>POINT (998774.551 1017047.009)</td>\n",
       "    </tr>\n",
       "    <tr>\n",
       "      <th>4</th>\n",
       "      <td>2019-01-01</td>\n",
       "      <td>ENERO</td>\n",
       "      <td>DEAP</td>\n",
       "      <td>CAMPERO</td>\n",
       "      <td>Particular</td>\n",
       "      <td>C02</td>\n",
       "      <td>ESTACIONAR UN VEHÍCULO EN SITIOS PROHIBIDOS.</td>\n",
       "      <td>CHAPINERO</td>\n",
       "      <td>BOGOTA</td>\n",
       "      <td>4.664454</td>\n",
       "      <td>-74.052416</td>\n",
       "      <td>POINT (1002784.030 1007547.634)</td>\n",
       "    </tr>\n",
       "  </tbody>\n",
       "</table>\n",
       "</div>"
      ],
      "text/plain": [
       "  FECHA_HORA    MES MEDIO_DETE CLASE_VEHI  TIPO_SERVI INFRACCION  \\\n",
       "0 2019-01-01  ENERO       DEAP  AUTOMÓVIL  Particular        C02   \n",
       "1 2019-01-01  ENERO       DEAP  AUTOMÓVIL  Particular        C02   \n",
       "2 2019-01-01  ENERO       DEAP  AUTOMÓVIL  Particular        C02   \n",
       "3 2019-01-01  ENERO       DEAP  AUTOMÓVIL  Particular        C02   \n",
       "4 2019-01-01  ENERO       DEAP    CAMPERO  Particular        C02   \n",
       "\n",
       "                                     DES_INFRAC  LOCALIDAD MUNICIPIO  \\\n",
       "0  ESTACIONAR UN VEHÍCULO EN SITIOS PROHIBIDOS.       SUBA    BOGOTA   \n",
       "1  ESTACIONAR UN VEHÍCULO EN SITIOS PROHIBIDOS.       SUBA    BOGOTA   \n",
       "2  ESTACIONAR UN VEHÍCULO EN SITIOS PROHIBIDOS.       SUBA    BOGOTA   \n",
       "3  ESTACIONAR UN VEHÍCULO EN SITIOS PROHIBIDOS.       SUBA    BOGOTA   \n",
       "4  ESTACIONAR UN VEHÍCULO EN SITIOS PROHIBIDOS.  CHAPINERO    BOGOTA   \n",
       "\n",
       "    LATITUD   LONGITUD                         geometry  \n",
       "0  4.750385  -74.08871   POINT (998757.245 1017049.995)  \n",
       "1  4.750385  -74.08871   POINT (998757.245 1017049.995)  \n",
       "2  4.750467 -74.088823   POINT (998744.709 1017059.063)  \n",
       "3  4.750358 -74.088554   POINT (998774.551 1017047.009)  \n",
       "4  4.664454 -74.052416  POINT (1002784.030 1007547.634)  "
      ]
     },
     "metadata": {},
     "execution_count": 10
    }
   ],
   "metadata": {}
  },
  {
   "cell_type": "markdown",
   "source": [
    "## Que podemos averiguar con este dataset\r\n",
    "### - cuantos tiempo tenemos de datos?\r\n",
    "### - Cuantos municipios estan registrados?\r\n",
    "### - cual es el total de comparendos mensuales por localidad?\r\n",
    "### - cual es la densidad de comparendos anual?"
   ],
   "metadata": {}
  },
  {
   "cell_type": "markdown",
   "source": [
    "miramos que rango de fecha tenemos en nuestro datos"
   ],
   "metadata": {}
  },
  {
   "cell_type": "code",
   "execution_count": 11,
   "source": [
    "comp_copy['FECHA_HORA'].sort_values().value_counts().plot()# creamos un grafico rapido de el numero de comparendo por fecha para empezar a ver tendencias"
   ],
   "outputs": [
    {
     "output_type": "execute_result",
     "data": {
      "text/plain": [
       "<AxesSubplot:>"
      ]
     },
     "metadata": {},
     "execution_count": 11
    },
    {
     "output_type": "display_data",
     "data": {
      "image/png": "[encoded data removed]",
      "text/plain": [
       "<Figure size 432x288 with 1 Axes>"
      ]
     },
     "metadata": {
      "needs_background": "light"
     }
    }
   ],
   "metadata": {}
  },
  {
   "cell_type": "markdown",
   "source": [
    "tenemos al rededor del 1 ano de datos, que pertenecen al 2019, ademas observamos una caida de comparendos en la mitad del ano y de noviembre en adelante"
   ],
   "metadata": {}
  },
  {
   "cell_type": "markdown",
   "source": [
    "observar la cantidad de municipios que estan involucrados en el dataset"
   ],
   "metadata": {}
  },
  {
   "cell_type": "code",
   "execution_count": 12,
   "source": [
    "comp_copy['MUNICIPIO'].value_counts()# cuenta el numero de municipios y la cantidad de registros en el dataset"
   ],
   "outputs": [
    {
     "output_type": "execute_result",
     "data": {
      "text/plain": [
       "BOGOTA    314252\n",
       "BOGOTÁ     88248\n",
       "Name: MUNICIPIO, dtype: Int64"
      ]
     },
     "metadata": {},
     "execution_count": 12
    }
   ],
   "metadata": {}
  },
  {
   "cell_type": "markdown",
   "source": [
    "todos nuestros datos estan ubicados en bogota, pero detectamos que existen 2 tipo de registros, entonces los trasladamos a un unico valor"
   ],
   "metadata": {}
  },
  {
   "cell_type": "code",
   "execution_count": 13,
   "source": [
    "comp_copy['MUNICIPIO'] = 'BOGOTA' #remplazamos todos los registros\r\n",
    "comp_copy['MUNICIPIO'].value_counts() #confirmamos que todo este ok"
   ],
   "outputs": [
    {
     "output_type": "execute_result",
     "data": {
      "text/plain": [
       "BOGOTA    402500\n",
       "Name: MUNICIPIO, dtype: int64"
      ]
     },
     "metadata": {},
     "execution_count": 13
    }
   ],
   "metadata": {}
  },
  {
   "cell_type": "code",
   "execution_count": 14,
   "source": [
    "comp_copy['LOCALIDAD'].value_counts() "
   ],
   "outputs": [
    {
     "output_type": "execute_result",
     "data": {
      "text/plain": [
       "CHAPINERO                38438\n",
       "FONTIBON                 36175\n",
       "MARTIRES                 32884\n",
       "TEUSAQUILLO              30550\n",
       "KENNEDY                  26469\n",
       "USAQUEN                  22769\n",
       "SUBA                     21974\n",
       "ENGATIVA                 21624\n",
       "BOSA                     21607\n",
       "PUENTE ARANDA            20476\n",
       "BARRIOS UNIDOS           20062\n",
       "SANTA FE                 17174\n",
       "USME                     13407\n",
       "RAFAEL URIBE             11789\n",
       "SAN CRISTOBAL            10425\n",
       "TUNJUELITO                9861\n",
       "ANTONIO NARIÑO            7939\n",
       "CIUDAD BOLIVAR            7270\n",
       "9-FONTIBON                4394\n",
       "16-PUENTE ARANDA          2381\n",
       "2-CHAPINERO               2312\n",
       "8-KENNEDY                 2186\n",
       "14-MARTIRES               2001\n",
       "13-TEUSAQUILLO            1966\n",
       "7-BOSA                    1957\n",
       "11-SUBA                   1953\n",
       "CANDELARIA                1939\n",
       "10-ENGATIVA               1849\n",
       "1-USAQUEN                 1786\n",
       "5-USME                    1275\n",
       "3-SANTA FE                1169\n",
       "12-BARRIOS UNIDOS         1080\n",
       "6-TUNJUELITO               831\n",
       "18- RAFAEL URIBE           702\n",
       "4-SAN CRISTOBAL            666\n",
       "15-ANTONIO NARIÑO          499\n",
       "19-CIUDAD BOLIVAR          416\n",
       "17-CANDELARIA              153\n",
       "SUMAPAZ                     59\n",
       "-                           23\n",
       "Field was not enabled        6\n",
       "Otro                         3\n",
       "Name: LOCALIDAD, dtype: Int64"
      ]
     },
     "metadata": {},
     "execution_count": 14
    }
   ],
   "metadata": {}
  },
  {
   "cell_type": "markdown",
   "source": [
    "Para poder estandarizar los nombres de las localidades es mejor tratar  su columna como string ya que si hacemos una operacion espacial para poder saber a donde pertenecen cada punto podria tardar demasiado para una tare tan sencilla."
   ],
   "metadata": {}
  },
  {
   "cell_type": "code",
   "execution_count": 15,
   "source": [
    "name_local = comp_copy['LOCALIDAD'].str.split(pat='-')\r\n",
    "name_local = name_local.fillna('NA')\r\n"
   ],
   "outputs": [],
   "metadata": {}
  },
  {
   "cell_type": "code",
   "execution_count": 26,
   "source": [
    "new_name = []\r\n",
    "for i in name_local:\r\n",
    "    if len(i)>1:\r\n",
    "        new_name.append(i[1])\r\n",
    "    else:\r\n",
    "        new_name.append(i[0])"
   ],
   "outputs": [],
   "metadata": {}
  },
  {
   "cell_type": "code",
   "execution_count": 29,
   "source": [
    "comp_copy['LOCALIDAD'] = new_name\r\n",
    "comp_copy['LOCALIDAD'].value_counts() "
   ],
   "outputs": [
    {
     "output_type": "execute_result",
     "data": {
      "text/plain": [
       "CHAPINERO                40750\n",
       "FONTIBON                 40569\n",
       "MARTIRES                 34885\n",
       "TEUSAQUILLO              32516\n",
       "KENNEDY                  28655\n",
       "USAQUEN                  24555\n",
       "SUBA                     23927\n",
       "BOSA                     23564\n",
       "ENGATIVA                 23473\n",
       "PUENTE ARANDA            22857\n",
       "BARRIOS UNIDOS           21142\n",
       "SANTA FE                 18343\n",
       "USME                     14682\n",
       "RAFAEL URIBE             11789\n",
       "SAN CRISTOBAL            11091\n",
       "TUNJUELITO               10692\n",
       "ANTONIO NARIÑO            8438\n",
       "CIUDAD BOLIVAR            7686\n",
       "CANDELARIA                2092\n",
       " RAFAEL URIBE              702\n",
       "SUMAPAZ                     59\n",
       "                            23\n",
       "Field was not enabled        6\n",
       "Otro                         3\n",
       "A                            1\n",
       "Name: LOCALIDAD, dtype: int64"
      ]
     },
     "metadata": {},
     "execution_count": 29
    }
   ],
   "metadata": {}
  },
  {
   "cell_type": "markdown",
   "source": [
    "Observamos que tenemos una localidad con un espacio en el nombre y varios campos sin localidad, procederemos a acer una union espacial para pdoer saber a que localidad pertenecen"
   ],
   "metadata": {}
  },
  {
   "cell_type": "code",
   "execution_count": 41,
   "source": [
    "comp_copy['LOCALIDAD'].replace(' RAFAEL URIBE','RAFAEL URIBE',inplace=True)#remplazamos los valores por RAFAEL UTIBE SIN ESPACIO\r\n",
    "comp_copy['LOCALIDAD'].replace(['A','Otro','Field was not enabled',''],'Sinlocalidad',inplace=True) # unificamos los campos sin localidad \r\n",
    "comp_copy['LOCALIDAD'].value_counts() \r\n"
   ],
   "outputs": [
    {
     "output_type": "execute_result",
     "data": {
      "text/plain": [
       "CHAPINERO         40750\n",
       "FONTIBON          40569\n",
       "MARTIRES          34885\n",
       "TEUSAQUILLO       32516\n",
       "KENNEDY           28655\n",
       "USAQUEN           24555\n",
       "SUBA              23927\n",
       "BOSA              23564\n",
       "ENGATIVA          23473\n",
       "PUENTE ARANDA     22857\n",
       "BARRIOS UNIDOS    21142\n",
       "SANTA FE          18343\n",
       "USME              14682\n",
       "RAFAEL URIBE      12491\n",
       "SAN CRISTOBAL     11091\n",
       "TUNJUELITO        10692\n",
       "ANTONIO NARIÑO     8438\n",
       "CIUDAD BOLIVAR     7686\n",
       "CANDELARIA         2092\n",
       "SUMAPAZ              59\n",
       "Sinlocalidad         33\n",
       "Name: LOCALIDAD, dtype: int64"
      ]
     },
     "metadata": {},
     "execution_count": 41
    }
   ],
   "metadata": {}
  },
  {
   "cell_type": "code",
   "execution_count": 62,
   "source": [
    "sin_local = comp_copy[comp_copy['LOCALIDAD']=='Sinlocalidad'][['LOCALIDAD','geometry']]#selecionamos las geometrias sin localidad\r\n",
    "sin_local = gpd.GeoDataFrame(sin_local)\r\n",
    "sin_local.reset_index(inplace=True)"
   ],
   "outputs": [],
   "metadata": {}
  },
  {
   "cell_type": "markdown",
   "source": [
    "procederemos a hacer un overlap con las geometrias de las localidades (shapefile descargado de la datos abiertos) y y los puntos que no tienen localidad "
   ],
   "metadata": {}
  },
  {
   "cell_type": "code",
   "execution_count": 63,
   "source": [
    "##lectura de localidades\r\n",
    "local_BGT = gpd.read_file('data\\localidades\\localidades.shp')\r\n",
    "local_BGT.to_crs(epsg=3116, inplace=True)\r\n",
    "local_BGT = local_BGT[['NOMBRE','geometry']]\r\n",
    "type(local_BGT)"
   ],
   "outputs": [
    {
     "output_type": "execute_result",
     "data": {
      "text/plain": [
       "geopandas.geodataframe.GeoDataFrame"
      ]
     },
     "metadata": {},
     "execution_count": 63
    }
   ],
   "metadata": {}
  },
  {
   "cell_type": "markdown",
   "source": [
    "ahora averiguaremos cuales el total de comparendo por mes en cada localidad"
   ],
   "metadata": {}
  },
  {
   "cell_type": "code",
   "execution_count": 69,
   "source": [
    "union = gpd.overlay(sin_local, local_BGT, how='union')\r\n",
    "union"
   ],
   "outputs": [
    {
     "output_type": "stream",
     "name": "stderr",
     "text": [
      "C:\\Users\\FRANKH~1\\AppData\\Local\\Temp/ipykernel_10404/4216730765.py:1: UserWarning: `keep_geom_type=True` in overlay resulted in 20 dropped geometries of different geometry types than df1 has. Set `keep_geom_type=False` to retain all geometries\n",
      "  union = gpd.overlay(sin_local, local_BGT, how='union')\n"
     ]
    },
    {
     "output_type": "execute_result",
     "data": {
      "text/html": [
       "<div>\n",
       "<style scoped>\n",
       "    .dataframe tbody tr th:only-of-type {\n",
       "        vertical-align: middle;\n",
       "    }\n",
       "\n",
       "    .dataframe tbody tr th {\n",
       "        vertical-align: top;\n",
       "    }\n",
       "\n",
       "    .dataframe thead th {\n",
       "        text-align: right;\n",
       "    }\n",
       "</style>\n",
       "<table border=\"1\" class=\"dataframe\">\n",
       "  <thead>\n",
       "    <tr style=\"text-align: right;\">\n",
       "      <th></th>\n",
       "      <th>index</th>\n",
       "      <th>LOCALIDAD</th>\n",
       "      <th>NOMBRE</th>\n",
       "      <th>geometry</th>\n",
       "    </tr>\n",
       "  </thead>\n",
       "  <tbody>\n",
       "    <tr>\n",
       "      <th>0</th>\n",
       "      <td>158217.0</td>\n",
       "      <td>Sinlocalidad</td>\n",
       "      <td>BARRIOS UNIDOS</td>\n",
       "      <td>POINT (999636.955 1008175.526)</td>\n",
       "    </tr>\n",
       "    <tr>\n",
       "      <th>1</th>\n",
       "      <td>314577.0</td>\n",
       "      <td>Sinlocalidad</td>\n",
       "      <td>BARRIOS UNIDOS</td>\n",
       "      <td>POINT (1002030.881 1009185.292)</td>\n",
       "    </tr>\n",
       "    <tr>\n",
       "      <th>2</th>\n",
       "      <td>353501.0</td>\n",
       "      <td>Sinlocalidad</td>\n",
       "      <td>BARRIOS UNIDOS</td>\n",
       "      <td>POINT (999949.470 1006954.240)</td>\n",
       "    </tr>\n",
       "    <tr>\n",
       "      <th>3</th>\n",
       "      <td>174238.0</td>\n",
       "      <td>Sinlocalidad</td>\n",
       "      <td>CHAPINERO</td>\n",
       "      <td>POINT (1003054.397 1008204.074)</td>\n",
       "    </tr>\n",
       "    <tr>\n",
       "      <th>4</th>\n",
       "      <td>397110.0</td>\n",
       "      <td>Sinlocalidad</td>\n",
       "      <td>CHAPINERO</td>\n",
       "      <td>POINT (1002472.534 1007965.917)</td>\n",
       "    </tr>\n",
       "    <tr>\n",
       "      <th>5</th>\n",
       "      <td>195851.0</td>\n",
       "      <td>Sinlocalidad</td>\n",
       "      <td>LOS MARTIRES</td>\n",
       "      <td>POINT (999181.979 1001388.266)</td>\n",
       "    </tr>\n",
       "    <tr>\n",
       "      <th>6</th>\n",
       "      <td>324810.0</td>\n",
       "      <td>Sinlocalidad</td>\n",
       "      <td>LOS MARTIRES</td>\n",
       "      <td>POINT (1000153.384 1001721.906)</td>\n",
       "    </tr>\n",
       "    <tr>\n",
       "      <th>7</th>\n",
       "      <td>369172.0</td>\n",
       "      <td>Sinlocalidad</td>\n",
       "      <td>LOS MARTIRES</td>\n",
       "      <td>POINT (999645.983 1000731.266)</td>\n",
       "    </tr>\n",
       "    <tr>\n",
       "      <th>8</th>\n",
       "      <td>314933.0</td>\n",
       "      <td>Sinlocalidad</td>\n",
       "      <td>SUBA</td>\n",
       "      <td>POINT (996893.433 1016425.813)</td>\n",
       "    </tr>\n",
       "    <tr>\n",
       "      <th>9</th>\n",
       "      <td>316829.0</td>\n",
       "      <td>Sinlocalidad</td>\n",
       "      <td>BOSA</td>\n",
       "      <td>POINT (988831.498 1000468.869)</td>\n",
       "    </tr>\n",
       "    <tr>\n",
       "      <th>10</th>\n",
       "      <td>379217.0</td>\n",
       "      <td>Sinlocalidad</td>\n",
       "      <td>BOSA</td>\n",
       "      <td>POINT (987433.856 1003596.512)</td>\n",
       "    </tr>\n",
       "    <tr>\n",
       "      <th>11</th>\n",
       "      <td>317403.0</td>\n",
       "      <td>Sinlocalidad</td>\n",
       "      <td>ENGATIVA</td>\n",
       "      <td>POINT (994910.592 1014183.319)</td>\n",
       "    </tr>\n",
       "    <tr>\n",
       "      <th>12</th>\n",
       "      <td>352382.0</td>\n",
       "      <td>Sinlocalidad</td>\n",
       "      <td>ENGATIVA</td>\n",
       "      <td>POINT (994952.565 1014162.121)</td>\n",
       "    </tr>\n",
       "    <tr>\n",
       "      <th>13</th>\n",
       "      <td>372068.0</td>\n",
       "      <td>Sinlocalidad</td>\n",
       "      <td>ENGATIVA</td>\n",
       "      <td>POINT (996149.017 1012613.538)</td>\n",
       "    </tr>\n",
       "    <tr>\n",
       "      <th>14</th>\n",
       "      <td>372069.0</td>\n",
       "      <td>Sinlocalidad</td>\n",
       "      <td>ENGATIVA</td>\n",
       "      <td>POINT (995578.608 1013299.913)</td>\n",
       "    </tr>\n",
       "    <tr>\n",
       "      <th>15</th>\n",
       "      <td>323246.0</td>\n",
       "      <td>Sinlocalidad</td>\n",
       "      <td>SANTA FE</td>\n",
       "      <td>POINT (999677.975 1000300.183)</td>\n",
       "    </tr>\n",
       "    <tr>\n",
       "      <th>16</th>\n",
       "      <td>325740.0</td>\n",
       "      <td>Sinlocalidad</td>\n",
       "      <td>CIUDAD BOLIVAR</td>\n",
       "      <td>POINT (990637.703 999675.397)</td>\n",
       "    </tr>\n",
       "    <tr>\n",
       "      <th>17</th>\n",
       "      <td>331679.0</td>\n",
       "      <td>Sinlocalidad</td>\n",
       "      <td>KENNEDY</td>\n",
       "      <td>POINT (994169.625 1001506.476)</td>\n",
       "    </tr>\n",
       "    <tr>\n",
       "      <th>18</th>\n",
       "      <td>369008.0</td>\n",
       "      <td>Sinlocalidad</td>\n",
       "      <td>KENNEDY</td>\n",
       "      <td>POINT (991703.773 1003877.930)</td>\n",
       "    </tr>\n",
       "    <tr>\n",
       "      <th>19</th>\n",
       "      <td>371701.0</td>\n",
       "      <td>Sinlocalidad</td>\n",
       "      <td>KENNEDY</td>\n",
       "      <td>POINT (991206.608 1004896.441)</td>\n",
       "    </tr>\n",
       "    <tr>\n",
       "      <th>20</th>\n",
       "      <td>389771.0</td>\n",
       "      <td>Sinlocalidad</td>\n",
       "      <td>KENNEDY</td>\n",
       "      <td>POINT (989460.061 1004289.194)</td>\n",
       "    </tr>\n",
       "    <tr>\n",
       "      <th>21</th>\n",
       "      <td>333312.0</td>\n",
       "      <td>Sinlocalidad</td>\n",
       "      <td>TEUSAQUILLO</td>\n",
       "      <td>POINT (997106.801 1006293.569)</td>\n",
       "    </tr>\n",
       "    <tr>\n",
       "      <th>22</th>\n",
       "      <td>333547.0</td>\n",
       "      <td>Sinlocalidad</td>\n",
       "      <td>RAFAEL URIBE URIBE</td>\n",
       "      <td>POINT (996817.189 996625.812)</td>\n",
       "    </tr>\n",
       "    <tr>\n",
       "      <th>23</th>\n",
       "      <td>365570.0</td>\n",
       "      <td>Sinlocalidad</td>\n",
       "      <td>RAFAEL URIBE URIBE</td>\n",
       "      <td>POINT (996192.902 998644.686)</td>\n",
       "    </tr>\n",
       "    <tr>\n",
       "      <th>24</th>\n",
       "      <td>352004.0</td>\n",
       "      <td>Sinlocalidad</td>\n",
       "      <td>TUNJUELITO</td>\n",
       "      <td>POINT (993103.073 998812.056)</td>\n",
       "    </tr>\n",
       "    <tr>\n",
       "      <th>25</th>\n",
       "      <td>398644.0</td>\n",
       "      <td>Sinlocalidad</td>\n",
       "      <td>TUNJUELITO</td>\n",
       "      <td>POINT (992211.941 999865.029)</td>\n",
       "    </tr>\n",
       "    <tr>\n",
       "      <th>26</th>\n",
       "      <td>365584.0</td>\n",
       "      <td>Sinlocalidad</td>\n",
       "      <td>FONTIBON</td>\n",
       "      <td>POINT (995969.328 1006307.626)</td>\n",
       "    </tr>\n",
       "    <tr>\n",
       "      <th>27</th>\n",
       "      <td>369188.0</td>\n",
       "      <td>Sinlocalidad</td>\n",
       "      <td>FONTIBON</td>\n",
       "      <td>POINT (995986.489 1006243.510)</td>\n",
       "    </tr>\n",
       "    <tr>\n",
       "      <th>28</th>\n",
       "      <td>371902.0</td>\n",
       "      <td>Sinlocalidad</td>\n",
       "      <td>PUENTE ARANDA</td>\n",
       "      <td>POINT (997665.340 1002253.638)</td>\n",
       "    </tr>\n",
       "    <tr>\n",
       "      <th>29</th>\n",
       "      <td>374499.0</td>\n",
       "      <td>Sinlocalidad</td>\n",
       "      <td>PUENTE ARANDA</td>\n",
       "      <td>POINT (995189.903 1000819.508)</td>\n",
       "    </tr>\n",
       "    <tr>\n",
       "      <th>30</th>\n",
       "      <td>376126.0</td>\n",
       "      <td>Sinlocalidad</td>\n",
       "      <td>PUENTE ARANDA</td>\n",
       "      <td>POINT (995356.556 1001232.520)</td>\n",
       "    </tr>\n",
       "    <tr>\n",
       "      <th>31</th>\n",
       "      <td>372562.0</td>\n",
       "      <td>Sinlocalidad</td>\n",
       "      <td>USAQUEN</td>\n",
       "      <td>POINT (1005031.357 1015438.603)</td>\n",
       "    </tr>\n",
       "    <tr>\n",
       "      <th>32</th>\n",
       "      <td>383490.0</td>\n",
       "      <td>Sinlocalidad</td>\n",
       "      <td>SAN CRISTOBAL</td>\n",
       "      <td>POINT (998202.105 997843.822)</td>\n",
       "    </tr>\n",
       "  </tbody>\n",
       "</table>\n",
       "</div>"
      ],
      "text/plain": [
       "       index     LOCALIDAD              NOMBRE  \\\n",
       "0   158217.0  Sinlocalidad      BARRIOS UNIDOS   \n",
       "1   314577.0  Sinlocalidad      BARRIOS UNIDOS   \n",
       "2   353501.0  Sinlocalidad      BARRIOS UNIDOS   \n",
       "3   174238.0  Sinlocalidad           CHAPINERO   \n",
       "4   397110.0  Sinlocalidad           CHAPINERO   \n",
       "5   195851.0  Sinlocalidad        LOS MARTIRES   \n",
       "6   324810.0  Sinlocalidad        LOS MARTIRES   \n",
       "7   369172.0  Sinlocalidad        LOS MARTIRES   \n",
       "8   314933.0  Sinlocalidad                SUBA   \n",
       "9   316829.0  Sinlocalidad                BOSA   \n",
       "10  379217.0  Sinlocalidad                BOSA   \n",
       "11  317403.0  Sinlocalidad            ENGATIVA   \n",
       "12  352382.0  Sinlocalidad            ENGATIVA   \n",
       "13  372068.0  Sinlocalidad            ENGATIVA   \n",
       "14  372069.0  Sinlocalidad            ENGATIVA   \n",
       "15  323246.0  Sinlocalidad            SANTA FE   \n",
       "16  325740.0  Sinlocalidad      CIUDAD BOLIVAR   \n",
       "17  331679.0  Sinlocalidad             KENNEDY   \n",
       "18  369008.0  Sinlocalidad             KENNEDY   \n",
       "19  371701.0  Sinlocalidad             KENNEDY   \n",
       "20  389771.0  Sinlocalidad             KENNEDY   \n",
       "21  333312.0  Sinlocalidad         TEUSAQUILLO   \n",
       "22  333547.0  Sinlocalidad  RAFAEL URIBE URIBE   \n",
       "23  365570.0  Sinlocalidad  RAFAEL URIBE URIBE   \n",
       "24  352004.0  Sinlocalidad          TUNJUELITO   \n",
       "25  398644.0  Sinlocalidad          TUNJUELITO   \n",
       "26  365584.0  Sinlocalidad            FONTIBON   \n",
       "27  369188.0  Sinlocalidad            FONTIBON   \n",
       "28  371902.0  Sinlocalidad       PUENTE ARANDA   \n",
       "29  374499.0  Sinlocalidad       PUENTE ARANDA   \n",
       "30  376126.0  Sinlocalidad       PUENTE ARANDA   \n",
       "31  372562.0  Sinlocalidad             USAQUEN   \n",
       "32  383490.0  Sinlocalidad       SAN CRISTOBAL   \n",
       "\n",
       "                           geometry  \n",
       "0    POINT (999636.955 1008175.526)  \n",
       "1   POINT (1002030.881 1009185.292)  \n",
       "2    POINT (999949.470 1006954.240)  \n",
       "3   POINT (1003054.397 1008204.074)  \n",
       "4   POINT (1002472.534 1007965.917)  \n",
       "5    POINT (999181.979 1001388.266)  \n",
       "6   POINT (1000153.384 1001721.906)  \n",
       "7    POINT (999645.983 1000731.266)  \n",
       "8    POINT (996893.433 1016425.813)  \n",
       "9    POINT (988831.498 1000468.869)  \n",
       "10   POINT (987433.856 1003596.512)  \n",
       "11   POINT (994910.592 1014183.319)  \n",
       "12   POINT (994952.565 1014162.121)  \n",
       "13   POINT (996149.017 1012613.538)  \n",
       "14   POINT (995578.608 1013299.913)  \n",
       "15   POINT (999677.975 1000300.183)  \n",
       "16    POINT (990637.703 999675.397)  \n",
       "17   POINT (994169.625 1001506.476)  \n",
       "18   POINT (991703.773 1003877.930)  \n",
       "19   POINT (991206.608 1004896.441)  \n",
       "20   POINT (989460.061 1004289.194)  \n",
       "21   POINT (997106.801 1006293.569)  \n",
       "22    POINT (996817.189 996625.812)  \n",
       "23    POINT (996192.902 998644.686)  \n",
       "24    POINT (993103.073 998812.056)  \n",
       "25    POINT (992211.941 999865.029)  \n",
       "26   POINT (995969.328 1006307.626)  \n",
       "27   POINT (995986.489 1006243.510)  \n",
       "28   POINT (997665.340 1002253.638)  \n",
       "29   POINT (995189.903 1000819.508)  \n",
       "30   POINT (995356.556 1001232.520)  \n",
       "31  POINT (1005031.357 1015438.603)  \n",
       "32    POINT (998202.105 997843.822)  "
      ]
     },
     "metadata": {},
     "execution_count": 69
    }
   ],
   "metadata": {}
  },
  {
   "cell_type": "code",
   "execution_count": 114,
   "source": [
    "for fid, inde in enumerate(union['index']):\r\n",
    "    comp_copy.loc[int(inde),'LOCALIDAD'] = union['NOMBRE'][union['index']==int(inde)][fid]\r\n",
    "\r\n",
    "# comp_copy.loc[383490]"
   ],
   "outputs": [],
   "metadata": {}
  },
  {
   "cell_type": "code",
   "execution_count": 115,
   "source": [
    "comp_copy['LOCALIDAD'].value_counts()"
   ],
   "outputs": [
    {
     "output_type": "execute_result",
     "data": {
      "text/plain": [
       "CHAPINERO             40752\n",
       "FONTIBON              40571\n",
       "MARTIRES              34885\n",
       "TEUSAQUILLO           32517\n",
       "KENNEDY               28659\n",
       "USAQUEN               24556\n",
       "SUBA                  23928\n",
       "BOSA                  23566\n",
       "ENGATIVA              23477\n",
       "PUENTE ARANDA         22860\n",
       "BARRIOS UNIDOS        21145\n",
       "SANTA FE              18344\n",
       "USME                  14682\n",
       "RAFAEL URIBE          12491\n",
       "SAN CRISTOBAL         11092\n",
       "TUNJUELITO            10694\n",
       "ANTONIO NARIÑO         8438\n",
       "CIUDAD BOLIVAR         7687\n",
       "CANDELARIA             2092\n",
       "SUMAPAZ                  59\n",
       "LOS MARTIRES              3\n",
       "RAFAEL URIBE URIBE        2\n",
       "Name: LOCALIDAD, dtype: int64"
      ]
     },
     "metadata": {},
     "execution_count": 115
    }
   ],
   "metadata": {}
  },
  {
   "cell_type": "code",
   "execution_count": 116,
   "source": [
    "comp_copy['CANTIDAD'] = 1 #creamos una columna nueva llamada cantidad con el valor 1 para poder hacer operaciones\r\n",
    "sum_mes = comp_copy.groupby(['MES','LOCALIDAD'])['CANTIDAD'].count().reset_index()\r\n",
    "sum_mes.head(5)"
   ],
   "outputs": [
    {
     "output_type": "execute_result",
     "data": {
      "text/html": [
       "<div>\n",
       "<style scoped>\n",
       "    .dataframe tbody tr th:only-of-type {\n",
       "        vertical-align: middle;\n",
       "    }\n",
       "\n",
       "    .dataframe tbody tr th {\n",
       "        vertical-align: top;\n",
       "    }\n",
       "\n",
       "    .dataframe thead th {\n",
       "        text-align: right;\n",
       "    }\n",
       "</style>\n",
       "<table border=\"1\" class=\"dataframe\">\n",
       "  <thead>\n",
       "    <tr style=\"text-align: right;\">\n",
       "      <th></th>\n",
       "      <th>MES</th>\n",
       "      <th>LOCALIDAD</th>\n",
       "      <th>CANTIDAD</th>\n",
       "    </tr>\n",
       "  </thead>\n",
       "  <tbody>\n",
       "    <tr>\n",
       "      <th>0</th>\n",
       "      <td>ENERO</td>\n",
       "      <td>ANTONIO NARIÑO</td>\n",
       "      <td>1323</td>\n",
       "    </tr>\n",
       "    <tr>\n",
       "      <th>1</th>\n",
       "      <td>ENERO</td>\n",
       "      <td>BARRIOS UNIDOS</td>\n",
       "      <td>3137</td>\n",
       "    </tr>\n",
       "    <tr>\n",
       "      <th>2</th>\n",
       "      <td>ENERO</td>\n",
       "      <td>BOSA</td>\n",
       "      <td>2513</td>\n",
       "    </tr>\n",
       "    <tr>\n",
       "      <th>3</th>\n",
       "      <td>ENERO</td>\n",
       "      <td>CANDELARIA</td>\n",
       "      <td>252</td>\n",
       "    </tr>\n",
       "    <tr>\n",
       "      <th>4</th>\n",
       "      <td>ENERO</td>\n",
       "      <td>CHAPINERO</td>\n",
       "      <td>4728</td>\n",
       "    </tr>\n",
       "  </tbody>\n",
       "</table>\n",
       "</div>"
      ],
      "text/plain": [
       "     MES       LOCALIDAD  CANTIDAD\n",
       "0  ENERO  ANTONIO NARIÑO      1323\n",
       "1  ENERO  BARRIOS UNIDOS      3137\n",
       "2  ENERO            BOSA      2513\n",
       "3  ENERO      CANDELARIA       252\n",
       "4  ENERO       CHAPINERO      4728"
      ]
     },
     "metadata": {},
     "execution_count": 116
    }
   ],
   "metadata": {}
  },
  {
   "cell_type": "code",
   "execution_count": 47,
   "source": [
    "# ##lectura de barrios\r\n",
    "# barrios_BGT = gpd.read_file(r'data\\barrios_SDP\\barrios_SDP.shp')\r\n",
    "# barrios_BGT.to_crs(epsg=3116, inplace=True)\r\n",
    "# barrios_BGT = barrios_BGT[['NOMBRE','geometry']]\r\n",
    "\r\n",
    "\r\n",
    "\r\n"
   ],
   "outputs": [],
   "metadata": {}
  },
  {
   "cell_type": "code",
   "execution_count": 48,
   "source": [
    "\r\n",
    "# barrios_BGT[['NOMBRE','geometry']].head(5)\r\n",
    "\r\n",
    "# union = gpd.overlay(barrios_BGT,local_BGT,how='union')\r\n"
   ],
   "outputs": [
    {
     "output_type": "stream",
     "name": "stderr",
     "text": [
      "C:\\Users\\FRANKH~1\\AppData\\Local\\Temp/ipykernel_11348/3405026959.py:3: UserWarning: `keep_geom_type=True` in overlay resulted in 6 dropped geometries of different geometry types than df1 has. Set `keep_geom_type=False` to retain all geometries\n",
      "  union = gpd.overlay(barrios_BGT,local_BGT,how='union')\n"
     ]
    }
   ],
   "metadata": {}
  },
  {
   "cell_type": "code",
   "execution_count": null,
   "source": [],
   "outputs": [],
   "metadata": {}
  },
  {
   "cell_type": "code",
   "execution_count": null,
   "source": [],
   "outputs": [],
   "metadata": {}
  },
  {
   "cell_type": "code",
   "execution_count": null,
   "source": [],
   "outputs": [],
   "metadata": {}
  },
  {
   "cell_type": "code",
   "execution_count": null,
   "source": [],
   "outputs": [],
   "metadata": {}
  },
  {
   "cell_type": "code",
   "execution_count": null,
   "source": [],
   "outputs": [],
   "metadata": {}
  },
  {
   "cell_type": "code",
   "execution_count": null,
   "source": [
    "import libpysal\r\n",
    "import esda\r\n",
    "\r\n",
    "weights = libpysal.weights.Queen.from_dataframe(mergedData)  # generate spatial weights (Queen in this case)\r\n",
    "spatial_auto = esda.Moran(mun[['population']], weights)  # calculate Moran's I"
   ],
   "outputs": [],
   "metadata": {}
  },
  {
   "cell_type": "code",
   "execution_count": null,
   "source": [
    "Map = geemap.Map()\r\n"
   ],
   "outputs": [],
   "metadata": {}
  },
  {
   "cell_type": "code",
   "execution_count": null,
   "source": [
    "Map.add_basemap('HYBRID')\r\n",
    "Map.centerObject(ROI,16)\r\n",
    "Map.addLayer(ROI, {}, \"polygon01\")"
   ],
   "outputs": [],
   "metadata": {}
  },
  {
   "cell_type": "code",
   "execution_count": null,
   "source": [
    "Map"
   ],
   "outputs": [],
   "metadata": {}
  },
  {
   "cell_type": "code",
   "execution_count": null,
   "source": [
    "ROI2 = gpd.read_file('Data\\map_granja02_JV.geojson')\r\n",
    "ROI2 = gmp.geopandas_to_ee(ROI2)"
   ],
   "outputs": [],
   "metadata": {}
  },
  {
   "cell_type": "code",
   "execution_count": null,
   "source": [
    "Map.add_basemap('HYBRID')\r\n",
    "Map.centerObject(ROI2,16)\r\n",
    "Map.addLayer(ROI2, {}, \"polygon01\")"
   ],
   "outputs": [],
   "metadata": {}
  },
  {
   "cell_type": "code",
   "execution_count": null,
   "source": [
    "Map"
   ],
   "outputs": [],
   "metadata": {}
  },
  {
   "cell_type": "code",
   "execution_count": null,
   "source": [],
   "outputs": [],
   "metadata": {}
  }
 ],
 "metadata": {
  "orig_nbformat": 4,
  "language_info": {
   "name": "python",
   "version": "3.8.11",
   "mimetype": "text/x-python",
   "codemirror_mode": {
    "name": "ipython",
    "version": 3
   },
   "pygments_lexer": "ipython3",
   "nbconvert_exporter": "python",
   "file_extension": ".py"
  },
  "kernelspec": {
   "name": "python3",
   "display_name": "Python 3.8.11 64-bit ('geods': conda)"
  },
  "interpreter": {
   "hash": "2a2c85e96d8b745be15ccef6d7c1cda10502afc361cd63b2d0594212eb03dc2b"
  }
 },
 "nbformat": 4,
 "nbformat_minor": 2
}