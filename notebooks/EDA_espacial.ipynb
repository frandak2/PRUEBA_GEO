{
 "cells": [
  {
   "cell_type": "markdown",
   "source": [
    "# Prueba Claro\r\n",
    "## Frank Montenegro - frandak2@gmail.com"
   ],
   "metadata": {}
  },
  {
   "cell_type": "markdown",
   "source": [
    "### importamos las librerias que vamos a usar"
   ],
   "metadata": {}
  },
  {
   "cell_type": "code",
   "execution_count": null,
   "source": [
    "import pandas as pd\r\n",
    "import geopandas as gpd\r\n",
    "import libpysal as lp\r\n",
    "import matplotlib.pyplot as plt\r\n",
    "import seaborn as sns\r\n",
    "import plotly.express as px\r\n",
    "import rasterio as rio\r\n",
    "import numpy as np\r\n",
    "import contextily as ctx\r\n",
    "import shapely.geometry as geom\r\n",
    "%matplotlib inline"
   ],
   "outputs": [],
   "metadata": {}
  },
  {
   "cell_type": "markdown",
   "source": [
    "### redireccionamos la ruta del notebook"
   ],
   "metadata": {}
  },
  {
   "cell_type": "code",
   "execution_count": null,
   "source": [
    "import os\r\n",
    "g = os.getcwd()\r\n",
    "g\r\n",
    "path = 'D:\\\\repos\\\\PRUEBA_GEO'\r\n",
    "os.chdir(path)"
   ],
   "outputs": [],
   "metadata": {}
  },
  {
   "cell_type": "markdown",
   "source": [
    "## Procedemos a leer los archivos shapefile\r\n",
    "de antemanos sabemos que el shape MGN es la capa de centros poblados del igac, en este shape tenemos imforacion sobre la forma, tamanio y area de cada centro poblado del pais"
   ],
   "metadata": {}
  },
  {
   "cell_type": "code",
   "execution_count": null,
   "source": [
    "Comparendos = gpd.read_file(\"data/Comparendos_2019_Bogota_D_C-shp/comparendos_corregido.shp\")\r\n"
   ],
   "outputs": [],
   "metadata": {}
  },
  {
   "cell_type": "markdown",
   "source": [
    "## Que podemos averiguar con este dataset\r\n",
    "### - cual es el total de comparendos mensuales por localidad?\r\n",
    "### - cual es la densidad de comparendos anual?"
   ],
   "metadata": {}
  },
  {
   "cell_type": "code",
   "execution_count": null,
   "source": [
    "Comparendos['FECHA_HORA'] = pd.to_datetime(Comparendos['FECHA_HORA'])## transformamos la columna fecha\r\n",
    "Comparendos['MES'] = pd.Categorical(Comparendos['MES'], categories=[ 'ENERO', 'FEBRERO', 'MARZO', 'ABRIL', 'MAYO', 'JUNIO', 'JULIO', 'AGOSTO', 'SEPTIEMBRE', 'OCTUBRE', 'NOVIEMBRE', 'DICIEMBRE'], ordered=True)\r\n",
    "Comparendos.head(5)"
   ],
   "outputs": [],
   "metadata": {}
  },
  {
   "cell_type": "markdown",
   "source": [
    "## Leemos el shape file de localidades para poder hacer un analisis por localidades"
   ],
   "metadata": {}
  },
  {
   "cell_type": "code",
   "execution_count": null,
   "source": [
    "##lectura de localidades\r\n",
    "local_BGT = gpd.read_file('data\\localidades\\localidades.shp')\r\n",
    "local_BGT.to_crs(epsg=4326, inplace=True)\r\n",
    "local_BGT = local_BGT[['NOMBRE','geometry']]\r\n",
    "local_BGT.columns = ['LOCALIDAD','geometry']\r\n",
    "local_BGT.head(5)"
   ],
   "outputs": [],
   "metadata": {}
  },
  {
   "cell_type": "code",
   "execution_count": null,
   "source": [
    "sum_total = Comparendos.groupby(['LOCALIDAD'])['CANTIDAD'].sum().reset_index()#contamos los numeros de casos de comparendos por localidad\r\n",
    "count_local = sum_total.merge(local_BGT,how='inner', on='LOCALIDAD')#unimos la geometria con la la localidad correspondiente\r\n",
    "count_local = gpd.GeoDataFrame(count_local)# se transforma a geopd\r\n",
    "count_local.plot(column='CANTIDAD', cmap='BuPu',legend=True,figsize=(10,10))#ploteamos el mapa anual de casos de comaprendos\r\n",
    "plt.title('Mapa de localidades con mayor comparendos en BOGOTA - 2019')# le colocamos el titulo"
   ],
   "outputs": [],
   "metadata": {}
  },
  {
   "cell_type": "markdown",
   "source": [
    "## Para poder aterrizar mejor el analisis haremos la mismas visualizacion pero por mes para ver su comportamiento"
   ],
   "metadata": {}
  },
  {
   "cell_type": "code",
   "execution_count": null,
   "source": [
    "sum_mes = Comparendos.groupby(['MES','LOCALIDAD'])['CANTIDAD'].sum().reset_index()#contamos por localidad y mes los casos de comparendos\r\n"
   ],
   "outputs": [],
   "metadata": {}
  },
  {
   "cell_type": "code",
   "execution_count": null,
   "source": [
    "count_local = sum_mes.merge(local_BGT,how='inner', on='LOCALIDAD')\r\n",
    "count_local = gpd.GeoDataFrame(count_local)\r\n"
   ],
   "outputs": [],
   "metadata": {}
  },
  {
   "cell_type": "code",
   "execution_count": null,
   "source": [
    "fig, axes = plt.subplots(1,12, figsize=(40,40),sharex=True, sharey=True)\r\n",
    "for fid, mes in enumerate(count_local.MES.unique()):\r\n",
    "    meses = count_local[count_local['MES']==mes]\r\n",
    "    axes[fid].set_title(mes)\r\n",
    "    meses.plot(ax=axes[fid], column='CANTIDAD', cmap='BuPu', legend=True)"
   ],
   "outputs": [],
   "metadata": {}
  },
  {
   "cell_type": "markdown",
   "source": [
    "Con el grafico anterior podemos sacar muchas conclusiones como saber cual es la localida de mayor afectacion y demas afirmaciones, pero estariamos desaporvechando la informacion espacial, ya que podriamos saber que zonas de esas localidades son las mas afectadas.\r\n",
    "### por este motivo crearemos un hotplot mensual y de esta forma tener mayor informacion."
   ],
   "metadata": {}
  },
  {
   "cell_type": "code",
   "execution_count": null,
   "source": [
    "token = 'pk.eyJ1IjoiZnJhbmRhazIiLCJhIjoiY2t0cHpubW1jMDlmdzJvbXhjZ2o0eHc0ZiJ9.WiHLSWVwG9VYcmBLls4oDg'\r\n",
    "px.set_mapbox_access_token(token)"
   ],
   "outputs": [],
   "metadata": {}
  },
  {
   "cell_type": "code",
   "execution_count": null,
   "source": [
    "px.density_mapbox(data_frame=Comparendos,\r\n",
    "                lat='LATITUD',\r\n",
    "                lon='LONGITUD',\r\n",
    "                z='CANTIDAD',\r\n",
    "                hover_name='LOCALIDAD',\r\n",
    "                color_continuous_scale=px.colors.cyclical.IceFire,\r\n",
    "                zoom=10,\r\n",
    "                radius=5)\r\n"
   ],
   "outputs": [],
   "metadata": {}
  },
  {
   "cell_type": "code",
   "execution_count": null,
   "source": [
    "from libpysal.cg import alpha_shape_auto\r\n",
    "from libpysal.weights.distance import get_points_array"
   ],
   "outputs": [],
   "metadata": {}
  },
  {
   "cell_type": "code",
   "execution_count": null,
   "source": [
    "localidades_group = Comparendos.groupby('LOCALIDAD')\r\n",
    "ashapes = localidades_group.geometry.apply(lambda hood: alpha_shape_auto(get_points_array(hood)))\r\n",
    "ashapes = gpd.GeoDataFrame(ashapes.reset_index())\r\n"
   ],
   "outputs": [],
   "metadata": {}
  },
  {
   "cell_type": "code",
   "execution_count": null,
   "source": [
    "ashapes.boundary.plot(color='k', linewidth=1, ax=plt.gca())"
   ],
   "outputs": [],
   "metadata": {}
  },
  {
   "cell_type": "code",
   "execution_count": null,
   "source": [
    "# ##lectura de barrios\r\n",
    "# barrios_BGT = gpd.read_file(r'data\\barrios_SDP\\barrios_SDP.shp')\r\n",
    "# barrios_BGT.to_crs(epsg=3116, inplace=True)\r\n",
    "# barrios_BGT = barrios_BGT[['NOMBRE','geometry']]\r\n",
    "\r\n",
    "\r\n",
    "\r\n"
   ],
   "outputs": [],
   "metadata": {}
  },
  {
   "cell_type": "code",
   "execution_count": null,
   "source": [],
   "outputs": [],
   "metadata": {}
  },
  {
   "cell_type": "code",
   "execution_count": null,
   "source": [],
   "outputs": [],
   "metadata": {}
  },
  {
   "cell_type": "code",
   "execution_count": null,
   "source": [
    "\r\n",
    "# barrios_BGT[['NOMBRE','geometry']].head(5)\r\n",
    "\r\n",
    "# union = gpd.overlay(barrios_BGT,local_BGT,how='union')\r\n"
   ],
   "outputs": [],
   "metadata": {}
  },
  {
   "cell_type": "code",
   "execution_count": null,
   "source": [],
   "outputs": [],
   "metadata": {}
  },
  {
   "cell_type": "code",
   "execution_count": null,
   "source": [],
   "outputs": [],
   "metadata": {}
  },
  {
   "cell_type": "code",
   "execution_count": null,
   "source": [],
   "outputs": [],
   "metadata": {}
  },
  {
   "cell_type": "code",
   "execution_count": null,
   "source": [],
   "outputs": [],
   "metadata": {}
  },
  {
   "cell_type": "code",
   "execution_count": null,
   "source": [],
   "outputs": [],
   "metadata": {}
  },
  {
   "cell_type": "code",
   "execution_count": null,
   "source": [
    "import libpysal\r\n",
    "import esda\r\n",
    "\r\n",
    "weights = libpysal.weights.Queen.from_dataframe(mergedData)  # generate spatial weights (Queen in this case)\r\n",
    "spatial_auto = esda.Moran(mun[['population']], weights)  # calculate Moran's I"
   ],
   "outputs": [],
   "metadata": {}
  },
  {
   "cell_type": "code",
   "execution_count": null,
   "source": [
    "Map = geemap.Map()\r\n"
   ],
   "outputs": [],
   "metadata": {}
  },
  {
   "cell_type": "code",
   "execution_count": null,
   "source": [
    "Map.add_basemap('HYBRID')\r\n",
    "Map.centerObject(ROI,16)\r\n",
    "Map.addLayer(ROI, {}, \"polygon01\")"
   ],
   "outputs": [],
   "metadata": {}
  },
  {
   "cell_type": "code",
   "execution_count": null,
   "source": [
    "Map"
   ],
   "outputs": [],
   "metadata": {}
  },
  {
   "cell_type": "code",
   "execution_count": null,
   "source": [
    "ROI2 = gpd.read_file('Data\\map_granja02_JV.geojson')\r\n",
    "ROI2 = gmp.geopandas_to_ee(ROI2)"
   ],
   "outputs": [],
   "metadata": {}
  },
  {
   "cell_type": "code",
   "execution_count": null,
   "source": [
    "Map.add_basemap('HYBRID')\r\n",
    "Map.centerObject(ROI2,16)\r\n",
    "Map.addLayer(ROI2, {}, \"polygon01\")"
   ],
   "outputs": [],
   "metadata": {}
  },
  {
   "cell_type": "code",
   "execution_count": null,
   "source": [
    "Map"
   ],
   "outputs": [],
   "metadata": {}
  },
  {
   "cell_type": "code",
   "execution_count": null,
   "source": [],
   "outputs": [],
   "metadata": {}
  }
 ],
 "metadata": {
  "orig_nbformat": 4,
  "language_info": {
   "name": "python",
   "version": "3.8.11",
   "mimetype": "text/x-python",
   "codemirror_mode": {
    "name": "ipython",
    "version": 3
   },
   "pygments_lexer": "ipython3",
   "nbconvert_exporter": "python",
   "file_extension": ".py"
  },
  "kernelspec": {
   "name": "python3",
   "display_name": "Python 3.8.11 64-bit ('geods': conda)"
  },
  "interpreter": {
   "hash": "2a2c85e96d8b745be15ccef6d7c1cda10502afc361cd63b2d0594212eb03dc2b"
  }
 },
 "nbformat": 4,
 "nbformat_minor": 2
}